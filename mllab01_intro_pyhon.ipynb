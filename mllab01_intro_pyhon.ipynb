{
  "nbformat": 4,
  "nbformat_minor": 0,
  "metadata": {
    "colab": {
      "provenance": [],
      "include_colab_link": true
    },
    "kernelspec": {
      "name": "python3",
      "display_name": "Python 3"
    },
    "language_info": {
      "name": "python"
    }
  },
  "cells": [
    {
      "cell_type": "markdown",
      "metadata": {
        "id": "view-in-github",
        "colab_type": "text"
      },
      "source": [
        "<a href=\"https://colab.research.google.com/github/SiwakornEDZ/mllab-python/blob/main/mllab01_intro_pyhon.ipynb\" target=\"_parent\"><img src=\"https://colab.research.google.com/assets/colab-badge.svg\" alt=\"Open In Colab\"/></a>"
      ]
    },
    {
      "cell_type": "markdown",
      "source": [
        "## Machine Learning Lab Practical 1 - Basic Python (21/07/2023)\n",
        "\n",
        "ชื่อ นายเจษฎา เพ็งสุวรรณ\n",
        "\n",
        "รหัสนักศึกษา 0000000\n",
        "\n",
        "e-mail jedsada.phengsuwan@gmail.com"
      ],
      "metadata": {
        "id": "O_h1lbU-AoGZ"
      }
    },
    {
      "cell_type": "markdown",
      "source": [
        "# Lab Practical Guideline"
      ],
      "metadata": {
        "id": "loxnsSMqCPT8"
      }
    },
    {
      "cell_type": "markdown",
      "source": [
        "\n",
        "**วัตถุประสงค์**\n",
        "\n",
        "1. เพื่อเรียนรู้การเขียนโปรแกรมภาษา Python เบื้องต้น\n",
        "2. เพื่อเรียนรู้การใช้งาน Numpy library\n",
        "3. สร้างความคุ้นเคยการเขียนโปรแกรมภาษา Python\n",
        "\n",
        "**ขั้นตอนการฝึกปฏิบัติการ**\n",
        "\n",
        "1. สร้างเอกสารบน colab และตั้งชื่อไฟล์เป็น 'mllab01-intro_pyhon.ipynb'\n",
        "2. สร้างหัวเอกสาร ใส่ชื่อ รหัส นศ. และ e-mail ของตนเอง โดยดูตามเอกสารตัวอย่างเพจนี้\n",
        "3. ศึกษาและทดลองการใช้งานภาษา Python เบื้องต้น และ Numpy ตามเอกสารตัวอย่างเพจนี้\n",
        "3. ศึกษาการการใช้งานภาษา Python และ Numpy จากเว็บไซต์ [w3Schools.com](https://www.w3schools.com/python/default.asp)\n",
        "\n",
        "**การส่งผลงาน**\n",
        "1. ให้ share เอกสารที่ นศ. ทำมายัง อาจารย์ผู้สอน และผู้ช่วยสอน e-mail jedsada.phengsuwan@gmail.com และ jerayu.k@en.rmutt.ac.th  *โดยกำหนดสิทธิ์เป็น Commenter*  [ดูตัวอย่าง](https://raw.githubusercontent.com/phengsuwan/ML04622316/f9e6a12ea0521de9ee991aeb3813b306ae6c8013/figures/submit.png)\n",
        "2. เพิ่ม link ผลงานเข้าไปในหน้า Profile ของตนเอง\n",
        "3. กำหนดส่งภายใน วันจันทร์ 24/07/2023 23.59\n",
        "\n"
      ],
      "metadata": {
        "id": "B53tjGOSCXpl"
      }
    },
    {
      "cell_type": "markdown",
      "source": [
        "# 1. พื้นฐานภาษา Python"
      ],
      "metadata": {
        "id": "44MqajSQBUvr"
      }
    },
    {
      "cell_type": "markdown",
      "source": [
        "> 1.1 คำสั่งพื้นฐาน\n",
        "\n",
        "1.1.1 การแสดงข้อความ​ -- Python **คำสั่งแรกของฉัน**\n"
      ],
      "metadata": {
        "id": "9-CR-JW4EN3e"
      }
    },
    {
      "cell_type": "code",
      "source": [
        "print(\"Hello World\")"
      ],
      "metadata": {
        "id": "SB0Z7ynvBZ9S"
      },
      "execution_count": null,
      "outputs": []
    },
    {
      "cell_type": "markdown",
      "source": [
        "1.1.2 การตรวจสอบเวอร์ชั่นของ Python\n",
        "\n",
        "\n",
        "*   สัหญลักษณ์ `#` ใช้ในการเขียน comment ใน code python\n",
        "*   `import` เป็นการเรียกใช้งาน library\n",
        "\n"
      ],
      "metadata": {
        "id": "-2K4S_52FDGE"
      }
    },
    {
      "cell_type": "code",
      "source": [
        "# เรียกใช้งาน library sys\n",
        "import sys\n",
        "print(sys.version)"
      ],
      "metadata": {
        "id": "6s00oudGFyph"
      },
      "execution_count": null,
      "outputs": []
    },
    {
      "cell_type": "markdown",
      "source": [
        "1.1.3 การประกาศตัวแปรและแสดงผลค่าตัวแปร  \n",
        "\n",
        "*   อ่านเพิ่มเติมเกี่ยวกับการใช้งานตัวแปร [link1](https://www.w3schools.com/python/python_variables.asp) และ [link2](https://www.w3schools.com/python/python_variables_output.asp)\n",
        "*   ประเภทของตัวแปรพื้นฐานในภาษา Python [link](https://www.w3schools.com/python/python_datatypes.asp)\n"
      ],
      "metadata": {
        "id": "InMclDMWJfkV"
      }
    },
    {
      "cell_type": "code",
      "source": [
        "x = 5\n",
        "y = \"John\"\n",
        "\n",
        "# แสดงข้อมูลในตัวแปร\n",
        "print(x)\n",
        "print(y)\n",
        "\n",
        "# แสดงประเภทของตัวแปร\n",
        "x = 1    # int\n",
        "y = 2.8  # float\n",
        "z = 1j   # complex\n",
        "print(type(x))\n",
        "print(type(y))\n",
        "print(type(z))\n"
      ],
      "metadata": {
        "id": "cL58AjRqJl0J"
      },
      "execution_count": null,
      "outputs": []
    },
    {
      "cell_type": "markdown",
      "source": [
        "1.1.4 ตัวแปรประเภท string\n",
        "\n",
        "\n",
        "*   อ่านเพิ่มเติม [link](https://www.w3schools.com/python/python_strings.asp)\n",
        "*   รวม method การจัดการข้อมูล string [link](https://www.w3schools.com/python/python_strings_methods.asp)\n",
        "\n"
      ],
      "metadata": {
        "id": "QBQ6nZruNP7b"
      }
    },
    {
      "cell_type": "code",
      "source": [
        "b = \"Hello, World!\"\n",
        "print(b)\n",
        "print(b[2:5])\n",
        "print(b[2:])\n",
        "print(b[:5])\n"
      ],
      "metadata": {
        "id": "UOP--jUJNpeY"
      },
      "execution_count": null,
      "outputs": []
    },
    {
      "cell_type": "markdown",
      "source": [
        "1.1.5 Python Operator [link](https://www.w3schools.com/python/python_operators.asp)"
      ],
      "metadata": {
        "id": "dvmqJHREOyNh"
      }
    },
    {
      "cell_type": "code",
      "source": [
        "a = 2+5*12-9/3\n",
        "b = (2+5)*((12-9)/3)\n",
        "print(a)\n",
        "print(b)"
      ],
      "metadata": {
        "id": "H1jJ_JkFPBZa"
      },
      "execution_count": null,
      "outputs": []
    },
    {
      "cell_type": "markdown",
      "source": [
        "> 1.2 Data Structure: List, และ Dictionaries\n",
        "\n",
        "\n",
        "*   เรียนรู้การเก็บข้อมูลเพิ่มเติม รวมถึงโครงสร้างแบบอื่นๆ ได้จาก [List](https://www.w3schools.com/python/python_lists.asp), [Tuple](https://www.w3schools.com/python/python_tuples.asp), [Set](https://www.w3schools.com/python/python_sets.asp), และ [Dictionaries](https://www.w3schools.com/python/python_dictionaries.asp)\n",
        "\n"
      ],
      "metadata": {
        "id": "jFgzsZZVP4nS"
      }
    },
    {
      "cell_type": "markdown",
      "source": [
        "1.2.1 การใช้งาน List เบื้องต้น\n",
        "\n",
        "วัตถุประสงค์หลัก -- เพื่อเก็บค่าข้อมูลหรือตัวแปรหลายๆ ตัว ในรูปแบบ array"
      ],
      "metadata": {
        "id": "U_eOth7hWP7X"
      }
    },
    {
      "cell_type": "code",
      "source": [
        "# code ตัวอย่างการประการตัวแปร List และการเข้าถึงค่าข้อมูลมายใน List\n",
        "fruits = [\"apple\", \"banana\", \"cherry\", \"orange\", \"kiwi\", \"melon\", \"mango\"]\n",
        "print(fruits)\n",
        "print(fruits[1])\n",
        "print(fruits[-1])\n",
        "print(fruits[-2])\n",
        "print(fruits[2:5])\n",
        "print(fruits[2:])\n",
        "print(fruits[:5])"
      ],
      "metadata": {
        "id": "wqGQD38jWwi-"
      },
      "execution_count": null,
      "outputs": []
    },
    {
      "cell_type": "markdown",
      "source": [
        "1.2.2 การวนลูปแสดงค่าใน List"
      ],
      "metadata": {
        "id": "888s5Xd0X9wd"
      }
    },
    {
      "cell_type": "code",
      "source": [
        "thislist = [\"apple\", \"banana\", \"cherry\"]\n",
        "for x in thislist:\n",
        "  print(x)"
      ],
      "metadata": {
        "id": "gyqfINEpYDzk"
      },
      "execution_count": null,
      "outputs": []
    },
    {
      "cell_type": "markdown",
      "source": [
        "1.2.3 การเปรียบเทียบค่าในตัวแปร List\n",
        "\n",
        "\n",
        "*   ให้ นศ. ดูและเปรียบเทียบวิธีการวนลูป\n",
        "\n"
      ],
      "metadata": {
        "id": "kbk50iWsYbhr"
      }
    },
    {
      "cell_type": "code",
      "source": [
        "# ตัวอย่างการเปรียบเทียบแบบที่ 1\n",
        "fruits = [\"apple\", \"banana\", \"cherry\", \"kiwi\", \"mango\"]\n",
        "newlist = []\n",
        "\n",
        "for x in fruits:\n",
        "  if \"a\" in x:        # ตรวจสอบว่า string ในตัวแปร x มีตัวอักษร 'a' อยู่หรือไม่\n",
        "    newlist.append(x) # หากเป็นจริงให้เพิ่มค่าใน ตัวแปร x ลงใน newlist\n",
        "\n",
        "print(newlist)\n",
        "\n",
        "# ตัวอย่างการเปรียบเทียบแบบที่ 2 ** การเขียน code แบบย่อ\n",
        "fruits = [\"apple\", \"banana\", \"cherry\", \"kiwi\", \"mango\"]\n",
        "\n",
        "newlist = [x for x in fruits if \"a\" in x]\n",
        "\n",
        "print(newlist)"
      ],
      "metadata": {
        "id": "WElBl9BeYk58"
      },
      "execution_count": null,
      "outputs": []
    },
    {
      "cell_type": "markdown",
      "source": [
        "1.2.4 Dictionaries ใช้สำหรับการเก็บข้อมูลในรูปแบบ key-value pairs [link](https://www.w3schools.com/python/python_dictionaries.asp)"
      ],
      "metadata": {
        "id": "zB_CSNeDZVve"
      }
    },
    {
      "cell_type": "code",
      "source": [
        "thisdict = {\n",
        "  \"brand\": \"Ford\",\n",
        "  \"model\": \"Mustang\",\n",
        "  \"year\": 1964\n",
        "}\n",
        "print(thisdict)\n",
        "print(thisdict[\"brand\"])\n",
        "\n",
        "# การเข้าถึง keys\n",
        "keys = thisdict.keys()\n",
        "print(f\"keys - {keys}\")\n",
        "\n",
        "# การเปลี่ยนแปลงค่าในคัวแปร\n",
        "thisdict[\"year\"] = 2018\n",
        "print(thisdict)\n",
        "\n",
        "thisdict.update({\"year\": 2020})\n",
        "print(thisdict)\n"
      ],
      "metadata": {
        "id": "wPOBTSSpZngD"
      },
      "execution_count": null,
      "outputs": []
    },
    {
      "cell_type": "markdown",
      "source": [
        "> 1.3 การตรวจสอบเงื่อนไขและการวนลูป\n",
        "\n",
        "\n",
        "*   เรียนรู้การใช้ If...Else\n",
        "*   เรียนรู้การวนลูป For\n",
        "\n",
        "\n"
      ],
      "metadata": {
        "id": "fLK5M3ZebvOB"
      }
    },
    {
      "cell_type": "markdown",
      "source": [
        "1.3.1 การใช้งาน If...Else [link](https://www.w3schools.com/python/python_conditions.asp)\n",
        "\n",
        "\n",
        "*   ให้ นศ. ทดลองเปลี่ยนค่าตัวแปร และรันใหม่\n",
        "\n"
      ],
      "metadata": {
        "id": "eZ-Dws1QcGr2"
      }
    },
    {
      "cell_type": "code",
      "source": [
        "# รูปแบบ if เบื้องต้น (ไม่มี else)\n",
        "a = 33\n",
        "b = 200\n",
        "if b > a:\n",
        "  print(\"b is greater than a\")\n",
        "\n",
        "\n",
        "# รูปแบบ if...else แบบสมบูรณ์\n",
        "a = 200\n",
        "b = 33\n",
        "if b > a:\n",
        "  print(\"b is greater than a\")\n",
        "elif a == b:\n",
        "  print(\"a and b are equal\")\n",
        "else:\n",
        "  print(\"a is greater than b\")"
      ],
      "metadata": {
        "id": "8t02zdAncPRR"
      },
      "execution_count": null,
      "outputs": []
    },
    {
      "cell_type": "markdown",
      "source": [
        "1.3.2 การใช้งานลูป For [link](https://www.w3schools.com/python/python_for_loops.asp)\n",
        "\n",
        "*   ให้ นศ. ทดลองรันและสังเกตุผลลัพท์\n",
        "\n"
      ],
      "metadata": {
        "id": "kkfV8Q_qcPyO"
      }
    },
    {
      "cell_type": "code",
      "source": [
        "for x in \"banana\":\n",
        "  print(x)"
      ],
      "metadata": {
        "id": "IaX_oRkQcchy"
      },
      "execution_count": null,
      "outputs": []
    },
    {
      "cell_type": "code",
      "source": [
        "# ตัวอย่างการใช้ range\n",
        "for x in range(6):\n",
        "  print(x)"
      ],
      "metadata": {
        "id": "tsGqW8qwebKD"
      },
      "execution_count": null,
      "outputs": []
    },
    {
      "cell_type": "code",
      "source": [
        "# ตัวอย่างการใช้ range\n",
        "for x in range(2, 6):\n",
        "  print(x)"
      ],
      "metadata": {
        "id": "wYdwwziXegzG"
      },
      "execution_count": null,
      "outputs": []
    },
    {
      "cell_type": "markdown",
      "source": [
        "> 1.4 ศึกษาเพิ่มเติม\n",
        "\n",
        "*   ให้ นศ. เขียนตัวอย่าง code ที่ศึกษาด้วยตัวเองเพิ่มเติม อย่างน้อย 5 ตัวอย่าง\n",
        "\n"
      ],
      "metadata": {
        "id": "MVk77ofQ3xF8"
      }
    },
    {
      "cell_type": "markdown",
      "source": [
        "1.4.1 ตัวอย่างที่ 1 if... [เรียนรู้จาก](https://www.w3schools.com/python/python_conditions.asp)"
      ],
      "metadata": {
        "id": "-1E5pUqk4FjS"
      }
    },
    {
      "cell_type": "code",
      "source": [
        "# ใส่ตัวอย่าง code ที่ได้เรียนรู้\n",
        "a = 33\n",
        "b = 200\n",
        "if b > a:\n",
        "  print(\"b is greater than a\")"
      ],
      "metadata": {
        "id": "RghqxTAC5JGd"
      },
      "execution_count": null,
      "outputs": []
    },
    {
      "cell_type": "markdown",
      "source": [
        "1.4.2 ตัวอย่างที่ 2 <ใส่หัวข้อ> [เรียนรู้จาก](<ใส่ URL>)"
      ],
      "metadata": {
        "id": "0BhuQlKv43UF"
      }
    },
    {
      "cell_type": "code",
      "source": [
        "# ใส่ตัวอย่าง code ที่ได้เรียนรู้"
      ],
      "metadata": {
        "id": "uHDj0Dws5Sc-"
      },
      "execution_count": null,
      "outputs": []
    },
    {
      "cell_type": "markdown",
      "source": [
        "1.4.3 ตัวอย่างที่ 3 <ใส่หัวข้อ> [เรียนรู้จาก](<ใส่ URL>)"
      ],
      "metadata": {
        "id": "EI0h95Vb46ZT"
      }
    },
    {
      "cell_type": "code",
      "source": [
        "# ใส่ตัวอย่าง code ที่ได้เรียนรู้"
      ],
      "metadata": {
        "id": "LVg60ClE5Tmo"
      },
      "execution_count": null,
      "outputs": []
    },
    {
      "cell_type": "markdown",
      "source": [
        "1.4.4 ตัวอย่างที่ 4 <ใส่หัวข้อ> [เรียนรู้จาก](<ใส่ URL>)"
      ],
      "metadata": {
        "id": "bKyo8ERr49Tp"
      }
    },
    {
      "cell_type": "code",
      "source": [
        "# ใส่ตัวอย่าง code ที่ได้เรียนรู้"
      ],
      "metadata": {
        "id": "MMQFc-jP5UTE"
      },
      "execution_count": null,
      "outputs": []
    },
    {
      "cell_type": "markdown",
      "source": [
        "1.4.5 ตัวอย่างที่ 5 <ใส่หัวข้อ> [เรียนรู้จาก](<ใส่ URL>)"
      ],
      "metadata": {
        "id": "Gw1valiH5FOj"
      }
    },
    {
      "cell_type": "code",
      "source": [
        "# ใส่ตัวอย่าง code ที่ได้เรียนรู้"
      ],
      "metadata": {
        "id": "PM-Hftko5U9-"
      },
      "execution_count": null,
      "outputs": []
    },
    {
      "cell_type": "markdown",
      "source": [
        "# 2. การใช้งาน Numpy เบื้องต้น\n",
        "\n",
        "*   [Numpy](https://www.w3schools.com/python/numpy/default.asp) เป็น Python library สำหรับการจัดการ array และการคำนวณคณิตศาสตร์\n",
        "*   Numpy มีการจัดการ array และกลไกที่เรียกว่า vectorisztions ที่มีการใช้งาน hardware ของเครื่องเพื่อเพิ่มประสิทธิภาพในการคำนวณ Array ที่มีขนาดใหญ่ๆ\n",
        "\n"
      ],
      "metadata": {
        "id": "qDCoNSXNBbrR"
      }
    },
    {
      "cell_type": "code",
      "source": [
        "import numpy as np\n",
        "import time\n",
        "from numpy import random\n"
      ],
      "metadata": {
        "id": "onNSB1C6ksSV"
      },
      "execution_count": null,
      "outputs": []
    },
    {
      "cell_type": "markdown",
      "source": [
        "> 2.1 การสร้าง Vector ด้วย Numpy\n",
        "\n",
        "\n",
        "*   ศึกษาการสร้าง Vector ด้วย methods ต่างๆ ของ Numpy\n"
      ],
      "metadata": {
        "id": "d0kc2FQWmNVN"
      }
    },
    {
      "cell_type": "markdown",
      "source": [
        "2.1.1 สร้าง vector 1 มิติที่มีขนาด 5 ตัว"
      ],
      "metadata": {
        "id": "aogjlwVcn5wH"
      }
    },
    {
      "cell_type": "code",
      "source": [
        "x=random.randint(100, size=(5))\n",
        "print(x)"
      ],
      "metadata": {
        "id": "7Wm8KKcgoNJr"
      },
      "execution_count": null,
      "outputs": []
    },
    {
      "cell_type": "markdown",
      "source": [
        "2.1.2 การสร้าง vector 2 มิติ"
      ],
      "metadata": {
        "id": "kyjeXyoJrztd"
      }
    },
    {
      "cell_type": "code",
      "source": [
        "# สร้าง vector 2 มิติ ขนาด 3 (rows) x5 (columns)\n",
        "x = random.randint(100, size=(3, 5))\n",
        "print(x)\n",
        "\n",
        "# แสดงขนาดของ Array\n",
        "print(x.shape)"
      ],
      "metadata": {
        "id": "KMzpmo66nx6o"
      },
      "execution_count": null,
      "outputs": []
    },
    {
      "cell_type": "markdown",
      "source": [
        "2.1.3 ตัวอย่างการสร้าง Vector ด้วยฟังก์ชันอื่นๆ ของ Numpy"
      ],
      "metadata": {
        "id": "yji2QYtC15oP"
      }
    },
    {
      "cell_type": "code",
      "source": [
        "# NumPy routines which allocate memory and fill arrays with value\n",
        "a = np.zeros(4);\n",
        "print(f\"np.zeros(4) :   a = {a}, a shape = {a.shape}, a data type = {a.dtype}\")\n",
        "\n",
        "a = np.zeros((4,));\n",
        "print(f\"np.zeros(4,) :  a = {a}, a shape = {a.shape}, a data type = {a.dtype}\")\n",
        "\n",
        "a = np.random.random_sample(4);\n",
        "print(f\"np.random.random_sample(4): a = {a}, a shape = {a.shape}, a data type = {a.dtype}\")\n",
        "\n",
        "# NumPy routines which allocate memory and fill arrays with value but do not accept shape as input argument\n",
        "a = np.arange(4.);\n",
        "print(f\"np.arange(4.):     a = {a}, a shape = {a.shape}, a data type = {a.dtype}\")\n",
        "\n",
        "a = np.random.rand(4);\n",
        "print(f\"np.random.rand(4): a = {a}, a shape = {a.shape}, a data type = {a.dtype}\")"
      ],
      "metadata": {
        "id": "wFvjRRNU1__D"
      },
      "execution_count": null,
      "outputs": []
    },
    {
      "cell_type": "markdown",
      "source": [
        "> 2.2 Numpy Operations"
      ],
      "metadata": {
        "id": "nIdkR2bAuuW3"
      }
    },
    {
      "cell_type": "markdown",
      "source": [
        "2.2.1 scalar + vector"
      ],
      "metadata": {
        "id": "r1JBk8XEuzW9"
      }
    },
    {
      "cell_type": "code",
      "source": [
        "x = np.array([1, 2, 3, 4, 5, 6, 7, 8, 9])\n",
        "c = 2\n",
        "y = x + c\n",
        "print(f\"{x} + {c} = {y}\")"
      ],
      "metadata": {
        "id": "6d7Oj6--w6KN"
      },
      "execution_count": null,
      "outputs": []
    },
    {
      "cell_type": "markdown",
      "source": [
        "2.2.2 Scalar + matrix"
      ],
      "metadata": {
        "id": "fzGy1LbuxnvD"
      }
    },
    {
      "cell_type": "code",
      "source": [
        "X = np.array([[12, 76, 79, 80, 81],\n",
        "            [81, 96, 3, 63, 17],\n",
        "            [59,  6,  1, 24, 18]])\n",
        "c = 2\n",
        "Y = X + c\n",
        "print(Y)"
      ],
      "metadata": {
        "id": "MK9CIJoNyD0D"
      },
      "execution_count": null,
      "outputs": []
    },
    {
      "cell_type": "markdown",
      "source": [
        "2.2.3 vector + vector"
      ],
      "metadata": {
        "id": "7VI7Mt9iziv5"
      }
    },
    {
      "cell_type": "code",
      "source": [
        "x1 = np.array([1, 2, 3, 4, 5, 6, 7, 8, 9, 10])\n",
        "x2 = np.array([1, 1, 1, 1, 1, 2, 2, 2, 2, 2])\n",
        "y = x1 + x2\n",
        "print(y)"
      ],
      "metadata": {
        "id": "Htf6fDqr0EoO"
      },
      "execution_count": null,
      "outputs": []
    },
    {
      "cell_type": "markdown",
      "source": [
        "2.2.4 Vector + matrix"
      ],
      "metadata": {
        "id": "DbBsKRna0ZkV"
      }
    },
    {
      "cell_type": "code",
      "source": [
        "X = np.array([[1, 2, 3, 4],\n",
        "              [5, 6, 7, 8],\n",
        "              [9, 10, 11, 12]])\n",
        "v = np.array([1, 2, 3, 4])\n",
        "\n",
        "Y = X + v\n",
        "print(Y)"
      ],
      "metadata": {
        "id": "Bvmaeg4y0dVM",
        "colab": {
          "base_uri": "https://localhost:8080/"
        },
        "outputId": "11ae4b03-f767-4984-8d80-c8e6d1d42ee6"
      },
      "execution_count": null,
      "outputs": [
        {
          "output_type": "stream",
          "name": "stdout",
          "text": [
            "[[ 2  4  6  8]\n",
            " [ 6  8 10 12]\n",
            " [10 12 14 16]]\n"
          ]
        }
      ]
    },
    {
      "cell_type": "markdown",
      "source": [
        "2.2.5 Matrix + Metrix"
      ],
      "metadata": {
        "id": "KTEG0Rp409-g"
      }
    },
    {
      "cell_type": "code",
      "source": [
        "X1 = np.array([[1, 2, 3, 4],\n",
        "              [5, 6, 7, 8],\n",
        "              [9, 10, 11, 12]])\n",
        "X2 = np.array([[1, 1, 1, 1],\n",
        "              [2, 2, 2, 2],\n",
        "              [3, 3, 3, 3]])\n",
        "Y = X1 + X2\n",
        "print(Y)\n"
      ],
      "metadata": {
        "id": "sBi7-IIV1CiP"
      },
      "execution_count": null,
      "outputs": []
    },
    {
      "cell_type": "markdown",
      "source": [
        "2.2.6 การเขียนโปรแกรมคำนวณ Dot Products"
      ],
      "metadata": {
        "id": "tEwdo6-21Vgh"
      }
    },
    {
      "cell_type": "code",
      "source": [
        "a = np.array([1, 2, 3, 4, 5, 6, 7, 8, 9, 10])\n",
        "b = np.array([1, 1, 1, 1, 1, 2, 2, 2, 2, 2])\n",
        "x = 0\n",
        "for i in range(a.shape[0]):\n",
        "  x = x + a[i] * b[i]\n",
        "\n",
        "print(f\"dot product = {x}\")"
      ],
      "metadata": {
        "id": "WfUQt9r-2jpO"
      },
      "execution_count": null,
      "outputs": []
    },
    {
      "cell_type": "markdown",
      "source": [
        "2.2.7 การใช้ฟังก์ชั่น np.dot เพื่อคำนวณ Dot Products"
      ],
      "metadata": {
        "id": "oXJ5X8Ei1fUz"
      }
    },
    {
      "cell_type": "code",
      "source": [
        "a = np.array([1, 2, 3, 4, 5, 6, 7, 8, 9, 10])\n",
        "b = np.array([1, 1, 1, 1, 1, 2, 2, 2, 2, 2])\n",
        "\n",
        "x = np.dot(a, b)\n",
        "\n",
        "print(f\"dot product = {x}\")\n"
      ],
      "metadata": {
        "id": "Fwz6LMkV3JL9",
        "colab": {
          "base_uri": "https://localhost:8080/"
        },
        "outputId": "aa8ca6b1-186e-4ea4-b61b-e87f68940d11"
      },
      "execution_count": null,
      "outputs": [
        {
          "output_type": "stream",
          "name": "stdout",
          "text": [
            "dot product = 95\n"
          ]
        }
      ]
    },
    {
      "cell_type": "markdown",
      "source": [
        "2.2.8 การเรียบเทียบการคำนวณ dot product ด้วยวิธีธรรมดา และการใช้ Numpy"
      ],
      "metadata": {
        "id": "bJK1ui5SlJpb"
      }
    },
    {
      "cell_type": "markdown",
      "source": [
        "a. สร้าง function การคำนวณ dot product ด้วยวิธีทั่วไป"
      ],
      "metadata": {
        "id": "gUYclo7Dlju5"
      }
    },
    {
      "cell_type": "code",
      "source": [
        "def my_dot(a, b):\n",
        "    \"\"\"\n",
        "   Compute the dot product of two vectors\n",
        "\n",
        "    Args:\n",
        "      a (ndarray (n,)):  input vector\n",
        "      b (ndarray (n,)):  input vector with same dimension as a\n",
        "\n",
        "    Returns:\n",
        "      x (scalar):\n",
        "    \"\"\"\n",
        "    x=0\n",
        "    for i in range(a.shape[0]):\n",
        "        x = x + a[i] * b[i]\n",
        "    return x"
      ],
      "metadata": {
        "id": "f9QS2FrrlT7I"
      },
      "execution_count": null,
      "outputs": []
    },
    {
      "cell_type": "markdown",
      "source": [
        "b. เปรียบเทียบเวลาในการคำนวณ"
      ],
      "metadata": {
        "id": "XRyW_Pyxlo1C"
      }
    },
    {
      "cell_type": "code",
      "source": [
        "\n",
        "np.random.seed(1)\n",
        "a = np.random.rand(10000000)  # very large arrays\n",
        "b = np.random.rand(10000000)\n",
        "\n",
        "tic = time.time()  # capture start time\n",
        "c = np.dot(a, b)\n",
        "toc = time.time()  # capture end time\n",
        "\n",
        "print(f\"np.dot(a, b) =  {c:.4f}\")\n",
        "print(f\"Vectorized version duration: {1000*(toc-tic):.4f} ms \")\n",
        "\n",
        "tic = time.time()  # capture start time\n",
        "c = my_dot(a,b)\n",
        "toc = time.time()  # capture end time\n",
        "\n",
        "print(f\"my_dot(a, b) =  {c:.4f}\")\n",
        "print(f\"loop version duration: {1000*(toc-tic):.4f} ms \")\n",
        "\n",
        "del(a);del(b)  #remove these big arrays from memory"
      ],
      "metadata": {
        "id": "fkVeszXMBhoL",
        "colab": {
          "base_uri": "https://localhost:8080/"
        },
        "outputId": "b67cf262-24d6-41a3-e039-b389cac2ace2"
      },
      "execution_count": null,
      "outputs": [
        {
          "output_type": "stream",
          "name": "stdout",
          "text": [
            "np.dot(a, b) =  2501072.5817\n",
            "Vectorized version duration: 12.3603 ms \n",
            "my_dot(a, b) =  2501072.5817\n",
            "loop version duration: 4919.7960 ms \n"
          ]
        }
      ]
    },
    {
      "cell_type": "markdown",
      "source": [
        "> 2.3 ศึกษาเพิ่มเติม Numpy\n",
        "\n",
        "*   ให้ นศ. เขียนตัวอย่าง code ที่ศึกษาด้วยตัวเองเพิ่มเติม อย่างน้อย 5 ตัวอย่าง\n",
        "\n"
      ],
      "metadata": {
        "id": "6Kep77td5dxk"
      }
    },
    {
      "cell_type": "markdown",
      "source": [
        "2.3.1 ตัวอย่างที่ 1 <ใส่หัวข้อ> [เรียนรู้จาก](<ใส่ URL>)"
      ],
      "metadata": {
        "id": "GtThWvfG6In5"
      }
    },
    {
      "cell_type": "code",
      "source": [
        "# ใส่ตัวอย่าง code ที่ได้เรียนรู้"
      ],
      "metadata": {
        "id": "-6cdkJo36byS"
      },
      "execution_count": null,
      "outputs": []
    },
    {
      "cell_type": "markdown",
      "source": [
        "2.3.2 ตัวอย่างที่ 1 <ใส่หัวข้อ> [เรียนรู้จาก](<ใส่ URL>)"
      ],
      "metadata": {
        "id": "HRtbPych6LwD"
      }
    },
    {
      "cell_type": "code",
      "source": [
        "# ใส่ตัวอย่าง code ที่ได้เรียนรู้"
      ],
      "metadata": {
        "id": "wGtca83w6gwB"
      },
      "execution_count": null,
      "outputs": []
    },
    {
      "cell_type": "markdown",
      "source": [
        "2.3.3 ตัวอย่างที่ 1 <ใส่หัวข้อ> [เรียนรู้จาก](<ใส่ URL>)"
      ],
      "metadata": {
        "id": "2Sql3vTU6MOh"
      }
    },
    {
      "cell_type": "code",
      "source": [
        "# ใส่ตัวอย่าง code ที่ได้เรียนรู้"
      ],
      "metadata": {
        "id": "16Xkfx-p6hg0"
      },
      "execution_count": null,
      "outputs": []
    },
    {
      "cell_type": "markdown",
      "source": [
        "2.3.5 ตัวอย่างที่ 1 <ใส่หัวข้อ> [เรียนรู้จาก](<ใส่ URL>)"
      ],
      "metadata": {
        "id": "1GJZDPsK6M-n"
      }
    },
    {
      "cell_type": "code",
      "source": [
        "# ใส่ตัวอย่าง code ที่ได้เรียนรู้"
      ],
      "metadata": {
        "id": "H5Yz9Mn76iTZ"
      },
      "execution_count": null,
      "outputs": []
    },
    {
      "cell_type": "markdown",
      "source": [
        "2.3.5 ตัวอย่างที่ 1 <ใส่หัวข้อ> [เรียนรู้จาก](<ใส่ URL>)"
      ],
      "metadata": {
        "id": "TSw_eDVN6N24"
      }
    },
    {
      "cell_type": "code",
      "source": [
        "# ใส่ตัวอย่าง code ที่ได้เรียนรู้"
      ],
      "metadata": {
        "id": "iVNwYwr_6i_5"
      },
      "execution_count": null,
      "outputs": []
    }
  ]
}